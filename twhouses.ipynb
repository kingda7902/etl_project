{
 "cells": [
  {
   "cell_type": "markdown",
   "metadata": {},
   "source": [
    "# 租屋爬蟲NOTE\n",
    "1. [台灣租屋網](http://www.twhouses.com.tw/)\n",
    "1. [pands!](#pandas-read-html-table!)\n",
    "1. [inner](#inner-page)"
   ]
  },
  {
   "cell_type": "code",
   "execution_count": 88,
   "metadata": {
    "collapsed": true
   },
   "outputs": [],
   "source": [
    "import requests\n",
    "import json\n",
    "uri = 'http://116.50.40.135/phptwhouses/searchresultcontent.php'\n",
    "query_str = \"\"\"jsoncallback:jsonp1502695203477\n",
    "_:1502695523215\n",
    "regionid:3\n",
    "region_id:新北市\n",
    "local_id:請選擇\n",
    "tradetype:1\n",
    "usingtype:12\n",
    "usingtypename:套房\n",
    "tablesort:\n",
    "linktype:0\n",
    "pageindex:1\n",
    "showtype:3\n",
    "showall:0\n",
    "lpnum:460422\n",
    "pageindex2:undefined\"\"\"\n",
    "\n",
    "\n",
    "\n",
    "def str2dict(str):\n",
    "    dic = {}\n",
    "    for line in str.split('\\n'):\n",
    "        kv = line.strip().split(':')\n",
    "        key = kv[0].strip()\n",
    "        value = kv[1].strip()\n",
    "        dic[key]=value\n",
    "    return dic\n",
    "\n",
    "query_data = str2dict(query_str)\n",
    "res = requests.get(uri, params=query_data)\n",
    "\n",
    "#url = \"http://116.50.40.135/phptwhouses/searchresultcontent.php?regionid=1&region_id=%E5%8F%B0%E5%8C%97%E5%B8%82&tradetype=1&usingtype=11&usingtypename=%E4%BD%8F%E5%AE%85&tablesort=&linktype=0&pageindex=1&showtype=3&showall=0&lpnum=243451\"\n",
    "#res2 = requests.get(url)"
   ]
  },
  {
   "cell_type": "code",
   "execution_count": 89,
   "metadata": {
    "collapsed": true
   },
   "outputs": [],
   "source": [
    "from bs4 import BeautifulSoup\n",
    "soup = BeautifulSoup(res.text,'lxml')\n",
    "# tmp = soup.find_all(lambda tag: tag.get('target') == '_blank')\n",
    "tmp = soup.select('.ax')"
   ]
  },
  {
   "cell_type": "code",
   "execution_count": 90,
   "metadata": {
    "scrolled": true
   },
   "outputs": [
    {
     "data": {
      "text/plain": [
       "'http://detail.twhouses.com.tw/703548'"
      ]
     },
     "execution_count": 90,
     "metadata": {},
     "output_type": "execute_result"
    }
   ],
   "source": [
    "tmp[0].get('href')"
   ]
  },
  {
   "cell_type": "code",
   "execution_count": 66,
   "metadata": {
    "scrolled": true
   },
   "outputs": [
    {
     "name": "stdout",
     "output_type": "stream",
     "text": [
      "{'jsoncallback': 'jsonp1502695203491', '_': '1502704801831', 'region_id': '新北市', 'tradetype': '1', 'usingtype': '12', 'pageindex': '1', 'showtype': '1'}\n"
     ]
    },
    {
     "data": {
      "text/plain": [
       "'jsoncallback=jsonp1502695203491&_=1502704801831&region_id=新北市&tradetype=1&usingtype=12&pageindex=1&showtype=1'"
      ]
     },
     "execution_count": 66,
     "metadata": {},
     "output_type": "execute_result"
    }
   ],
   "source": [
    "get_str = 'jsoncallback=jsonp1502695203491&_=1502704801831&region_id=新北市&tradetype=1&usingtype=12&pageindex=1&showtype=1'\n",
    "\n",
    "def get2dict(string):\n",
    "    dic = dict()\n",
    "    for line in string.strip().split('&'):\n",
    "        (key, value) = line.split('=')\n",
    "        dic[key]=value\n",
    "    return dic\n",
    "\n",
    "def dict2get(dic):\n",
    "    return '&'.join(['='.join(item) for item in dic.items()])\n",
    "\n",
    "test = get2dict(get_str)\n",
    "print(test)\n",
    "dict2get(test)"
   ]
  },
  {
   "cell_type": "code",
   "execution_count": 125,
   "metadata": {},
   "outputs": [
    {
     "data": {
      "text/plain": [
       "'29'"
      ]
     },
     "execution_count": 125,
     "metadata": {},
     "output_type": "execute_result"
    }
   ],
   "source": [
    "soup.select('div > span')[-2].text"
   ]
  },
  {
   "cell_type": "markdown",
   "metadata": {
    "collapsed": true
   },
   "source": [
    "# pandas read html table!"
   ]
  },
  {
   "cell_type": "code",
   "execution_count": 1,
   "metadata": {
    "collapsed": true
   },
   "outputs": [],
   "source": [
    "import numpy as np\n",
    "import pandas as pd\n",
    "url= 'http://116.50.40.135/phptwhouses/searchresultcontent.php?jsoncallback=jsonp1502695203491&_=1502704801831&region_id=%E6%96%B0%E5%8C%97%E5%B8%82&tradetype=1&usingtype=12&pageindex=1&showtype=1'\n",
    "\n",
    "df = pd.read_html(url)[0]\n",
    "odf = df.copy()"
   ]
  },
  {
   "cell_type": "code",
   "execution_count": 2,
   "metadata": {},
   "outputs": [
    {
     "name": "stdout",
     "output_type": "stream",
     "text": [
      "32\n"
     ]
    }
   ],
   "source": [
    "import requests\n",
    "from bs4 import BeautifulSoup\n",
    "\n",
    "def getTotalPage(url):\n",
    "    res = requests.get(url)\n",
    "    soup = BeautifulSoup(res.text, 'lxml')\n",
    "    return int(soup.select('div > span')[-2].text)\n",
    "    \n",
    "    \n",
    "print(getTotalPage(url))"
   ]
  },
  {
   "cell_type": "code",
   "execution_count": 3,
   "metadata": {
    "scrolled": true
   },
   "outputs": [
    {
     "data": {
      "text/plain": [
       "33"
      ]
     },
     "execution_count": 3,
     "metadata": {},
     "output_type": "execute_result"
    }
   ],
   "source": [
    "\n",
    "df = odf\n",
    "len(df.index)"
   ]
  },
  {
   "cell_type": "code",
   "execution_count": 4,
   "metadata": {
    "collapsed": true
   },
   "outputs": [],
   "source": [
    "column = df[:1].dropna(axis=1, how='any')\n",
    "df = df.drop(0)\n",
    "df = df.dropna(axis=1)\n",
    "#df.to_json(orient='records')"
   ]
  },
  {
   "cell_type": "code",
   "execution_count": 5,
   "metadata": {
    "collapsed": true
   },
   "outputs": [],
   "source": [
    "df.columns = column.transpose()"
   ]
  },
  {
   "cell_type": "code",
   "execution_count": 6,
   "metadata": {},
   "outputs": [
    {
     "data": {
      "text/plain": [
       "Index([('編號',), ('區域',), ('地址',), ('坪數',), ('用途',), ('價格',), ('聯絡電話',),\n",
       "       ('更新',)],\n",
       "      dtype='object')"
      ]
     },
     "execution_count": 6,
     "metadata": {},
     "output_type": "execute_result"
    }
   ],
   "source": [
    "df.columns"
   ]
  },
  {
   "cell_type": "code",
   "execution_count": 7,
   "metadata": {
    "collapsed": true
   },
   "outputs": [],
   "source": [
    "df.columns = ['twhouses_id',\n",
    "             'cityID',\n",
    "             'address',\n",
    "             'space',\n",
    "             'label',\n",
    "             'rent',\n",
    "             'phone',\n",
    "             'updateDate']"
   ]
  },
  {
   "cell_type": "code",
   "execution_count": 8,
   "metadata": {
    "collapsed": true
   },
   "outputs": [],
   "source": [
    "# make 'url'\n",
    "df['url'] = 'http://detail.twhouses.com.tw/House/Rent/' + df['twhouses_id'] "
   ]
  },
  {
   "cell_type": "code",
   "execution_count": 9,
   "metadata": {
    "collapsed": true
   },
   "outputs": [],
   "source": [
    "# paser 'rent' to integer\n",
    "df['rent'] = df['rent'].apply(lambda x : int(''.join(x.split('/')[0].split(','))))"
   ]
  },
  {
   "cell_type": "code",
   "execution_count": 10,
   "metadata": {
    "collapsed": true
   },
   "outputs": [],
   "source": [
    "# 'space' is float\n",
    "df['space'] = df['space'].apply(lambda x : float(x.split('/')[0]))"
   ]
  },
  {
   "cell_type": "code",
   "execution_count": 12,
   "metadata": {},
   "outputs": [],
   "source": [
    "# append address\n",
    "import re\n",
    "df['address'] = df['cityID'].apply(lambda x : re.sub('\\[|\\]','',x)) \\\n",
    "                + df['address'].apply(lambda x : x.split()[0])"
   ]
  },
  {
   "cell_type": "code",
   "execution_count": 13,
   "metadata": {
    "collapsed": true
   },
   "outputs": [],
   "source": [
    "# update Date \n",
    "\n",
    "import datetime\n",
    "import re\n",
    "def updateDate(Zhdate):\n",
    "    day = re.match('(\\d*)', Zhdate).group(1)\n",
    "    if day == '':\n",
    "        return datetime.date.today().strftime('%Y-%m-%d')\n",
    "    else:\n",
    "        try:\n",
    "            day = int(day)\n",
    "            return (datetime.date.today() - datetime.timedelta(days=day)).strftime('%Y-%m-%d')\n",
    "        except Exception:\n",
    "            pass\n",
    "\n",
    "        \n",
    "df['updateDate'] = df['updateDate'].apply(updateDate)"
   ]
  },
  {
   "cell_type": "code",
   "execution_count": 14,
   "metadata": {
    "collapsed": true
   },
   "outputs": [],
   "source": [
    "# lebel\n",
    "df['label'] = df['label'].apply(lambda x: x[0])"
   ]
  },
  {
   "cell_type": "code",
   "execution_count": 16,
   "metadata": {},
   "outputs": [],
   "source": [
    "#region id\n",
    "import re\n",
    "\n",
    "def getID(region):\n",
    "    region_id = {\"台北市\":{\n",
    "    \"中正區\":100,\n",
    "    \"大同區\":103,\n",
    "    \"中山區\":104,\n",
    "    \"松山區\":105,\n",
    "    \"大安區\":106,\n",
    "    \"萬華區\":108,\n",
    "    \"信義區\":110,\n",
    "    \"士林區\":111,\n",
    "    \"北投區\":112,\n",
    "    \"內湖區\":114,\n",
    "    \"南港區\":115,\n",
    "    \"文山區\":116},\n",
    "\n",
    "    \"新北市\":{\n",
    "    \"萬里區\":207,\n",
    "    \"金山區\":208,\n",
    "    \"板橋區\":220,\n",
    "    \"汐止區\":221,\n",
    "    \"深坑區\":222,\n",
    "    \"石碇區\":223,\n",
    "    \"瑞芳區\":224,\n",
    "    \"平溪區\":226,\n",
    "    \"雙溪區\":227,\n",
    "    \"貢寮區\":228,\n",
    "    \"新店區\":231,\n",
    "    \"坪林區\":232,\n",
    "    \"烏來區\":233,\n",
    "    \"永和區\":234,\n",
    "    \"中和區\":235,\n",
    "    \"土城區\":236,\n",
    "    \"三峽區\":237,\n",
    "    \"樹林區\":238,\n",
    "    \"鶯歌區\":239,\n",
    "    \"三重區\":241,\n",
    "    \"新莊區\":242,\n",
    "    \"泰山區\":243,\n",
    "    \"林口區\":244,\n",
    "    \"蘆洲區\":247,\n",
    "    \"五股區\":248,\n",
    "    \"八里區\":249,\n",
    "    \"淡水區\":251,\n",
    "    \"三芝區\":252,\n",
    "    \"石門區\":253,}}\n",
    "    tmp = re.sub('\\W',' ',region).split()\n",
    "    return region_id.get(tmp[0]).get(tmp[1])\n",
    "df['cityID'] = df['cityID'].apply(getID)"
   ]
  },
  {
   "cell_type": "code",
   "execution_count": 17,
   "metadata": {},
   "outputs": [
    {
     "data": {
      "text/html": [
       "<div>\n",
       "<style>\n",
       "    .dataframe thead tr:only-child th {\n",
       "        text-align: right;\n",
       "    }\n",
       "\n",
       "    .dataframe thead th {\n",
       "        text-align: left;\n",
       "    }\n",
       "\n",
       "    .dataframe tbody tr th {\n",
       "        vertical-align: top;\n",
       "    }\n",
       "</style>\n",
       "<table border=\"1\" class=\"dataframe\">\n",
       "  <thead>\n",
       "    <tr style=\"text-align: right;\">\n",
       "      <th></th>\n",
       "      <th>cityID</th>\n",
       "      <th>address</th>\n",
       "      <th>space</th>\n",
       "      <th>label</th>\n",
       "      <th>rent</th>\n",
       "      <th>phone</th>\n",
       "      <th>updateDate</th>\n",
       "      <th>url</th>\n",
       "    </tr>\n",
       "  </thead>\n",
       "  <tbody>\n",
       "    <tr>\n",
       "      <th>1</th>\n",
       "      <td>241</td>\n",
       "      <td>新北市三重區五華街X號2樓、B室</td>\n",
       "      <td>8.00</td>\n",
       "      <td>套</td>\n",
       "      <td>7000</td>\n",
       "      <td>0989924818</td>\n",
       "      <td>2017-08-16</td>\n",
       "      <td>http://detail.twhouses.com.tw/House/Rent/13856226</td>\n",
       "    </tr>\n",
       "    <tr>\n",
       "      <th>2</th>\n",
       "      <td>241</td>\n",
       "      <td>新北市三重區五華街X號2樓、C室</td>\n",
       "      <td>8.00</td>\n",
       "      <td>套</td>\n",
       "      <td>7500</td>\n",
       "      <td>0989924818</td>\n",
       "      <td>2017-08-16</td>\n",
       "      <td>http://detail.twhouses.com.tw/House/Rent/13856216</td>\n",
       "    </tr>\n",
       "    <tr>\n",
       "      <th>3</th>\n",
       "      <td>234</td>\n",
       "      <td>新北市永和區和平街95巷23號5樓、D室</td>\n",
       "      <td>7.51</td>\n",
       "      <td>套</td>\n",
       "      <td>9000</td>\n",
       "      <td>0917982783</td>\n",
       "      <td>2017-08-16</td>\n",
       "      <td>http://detail.twhouses.com.tw/House/Rent/13856051</td>\n",
       "    </tr>\n",
       "    <tr>\n",
       "      <th>4</th>\n",
       "      <td>234</td>\n",
       "      <td>新北市永和區和平街95巷23號6樓、B室</td>\n",
       "      <td>18.30</td>\n",
       "      <td>套</td>\n",
       "      <td>14500</td>\n",
       "      <td>0917982783</td>\n",
       "      <td>2017-08-16</td>\n",
       "      <td>http://detail.twhouses.com.tw/House/Rent/13856052</td>\n",
       "    </tr>\n",
       "    <tr>\n",
       "      <th>5</th>\n",
       "      <td>220</td>\n",
       "      <td>新北市板橋區文化路一段280號</td>\n",
       "      <td>8.50</td>\n",
       "      <td>套</td>\n",
       "      <td>12300</td>\n",
       "      <td>0937925318</td>\n",
       "      <td>2017-08-16</td>\n",
       "      <td>http://detail.twhouses.com.tw/House/Rent/13856033</td>\n",
       "    </tr>\n",
       "    <tr>\n",
       "      <th>6</th>\n",
       "      <td>241</td>\n",
       "      <td>新北市三重區重新路四段41巷5弄X號5樓、503室</td>\n",
       "      <td>10.00</td>\n",
       "      <td>套</td>\n",
       "      <td>7500</td>\n",
       "      <td>0939319409</td>\n",
       "      <td>2017-08-16</td>\n",
       "      <td>http://detail.twhouses.com.tw/House/Rent/684636</td>\n",
       "    </tr>\n",
       "    <tr>\n",
       "      <th>7</th>\n",
       "      <td>241</td>\n",
       "      <td>新北市三重區五華街104巷X號4樓、402室</td>\n",
       "      <td>7.00</td>\n",
       "      <td>套</td>\n",
       "      <td>6500</td>\n",
       "      <td>0939319409</td>\n",
       "      <td>2017-08-16</td>\n",
       "      <td>http://detail.twhouses.com.tw/House/Rent/733823</td>\n",
       "    </tr>\n",
       "    <tr>\n",
       "      <th>8</th>\n",
       "      <td>221</td>\n",
       "      <td>新北市汐止區康寧街X號2樓、202室</td>\n",
       "      <td>9.00</td>\n",
       "      <td>套</td>\n",
       "      <td>8000</td>\n",
       "      <td>0939319409</td>\n",
       "      <td>2017-08-16</td>\n",
       "      <td>http://detail.twhouses.com.tw/House/Rent/2592099</td>\n",
       "    </tr>\n",
       "    <tr>\n",
       "      <th>9</th>\n",
       "      <td>231</td>\n",
       "      <td>新北市新店區花園新城X號</td>\n",
       "      <td>10.00</td>\n",
       "      <td>套</td>\n",
       "      <td>8000</td>\n",
       "      <td>0931167089</td>\n",
       "      <td>2017-08-15</td>\n",
       "      <td>http://detail.twhouses.com.tw/House/Rent/13855470</td>\n",
       "    </tr>\n",
       "    <tr>\n",
       "      <th>10</th>\n",
       "      <td>242</td>\n",
       "      <td>新北市新莊區建國二路1號3樓</td>\n",
       "      <td>7.00</td>\n",
       "      <td>套</td>\n",
       "      <td>5500</td>\n",
       "      <td>0920797125</td>\n",
       "      <td>2017-08-15</td>\n",
       "      <td>http://detail.twhouses.com.tw/House/Rent/438829</td>\n",
       "    </tr>\n",
       "    <tr>\n",
       "      <th>11</th>\n",
       "      <td>220</td>\n",
       "      <td>新北市板橋區松柏街36巷X號5樓</td>\n",
       "      <td>6.00</td>\n",
       "      <td>套</td>\n",
       "      <td>6000</td>\n",
       "      <td>0953459219</td>\n",
       "      <td>2017-08-14</td>\n",
       "      <td>http://detail.twhouses.com.tw/House/Rent/703548</td>\n",
       "    </tr>\n",
       "    <tr>\n",
       "      <th>12</th>\n",
       "      <td>247</td>\n",
       "      <td>新北市蘆洲區永安北路一段72巷X號</td>\n",
       "      <td>7.00</td>\n",
       "      <td>套</td>\n",
       "      <td>8500</td>\n",
       "      <td>0939257032</td>\n",
       "      <td>2017-08-13</td>\n",
       "      <td>http://detail.twhouses.com.tw/House/Rent/13795641</td>\n",
       "    </tr>\n",
       "    <tr>\n",
       "      <th>13</th>\n",
       "      <td>241</td>\n",
       "      <td>新北市三重區重新路四段X號2樓、C室</td>\n",
       "      <td>6.00</td>\n",
       "      <td>套</td>\n",
       "      <td>6500</td>\n",
       "      <td>0989924818</td>\n",
       "      <td>2017-08-13</td>\n",
       "      <td>http://detail.twhouses.com.tw/House/Rent/13855278</td>\n",
       "    </tr>\n",
       "    <tr>\n",
       "      <th>14</th>\n",
       "      <td>241</td>\n",
       "      <td>新北市三重區重新路四段X號2樓、B室</td>\n",
       "      <td>8.00</td>\n",
       "      <td>套</td>\n",
       "      <td>8500</td>\n",
       "      <td>0989924818</td>\n",
       "      <td>2017-08-13</td>\n",
       "      <td>http://detail.twhouses.com.tw/House/Rent/13855335</td>\n",
       "    </tr>\n",
       "    <tr>\n",
       "      <th>15</th>\n",
       "      <td>242</td>\n",
       "      <td>新北市新莊區化成路736巷X號3樓</td>\n",
       "      <td>7.00</td>\n",
       "      <td>套</td>\n",
       "      <td>6500</td>\n",
       "      <td>0932395966</td>\n",
       "      <td>2017-08-12</td>\n",
       "      <td>http://detail.twhouses.com.tw/House/Rent/433190</td>\n",
       "    </tr>\n",
       "    <tr>\n",
       "      <th>16</th>\n",
       "      <td>241</td>\n",
       "      <td>新北市三重區仁愛街114號5樓</td>\n",
       "      <td>6.00</td>\n",
       "      <td>套</td>\n",
       "      <td>6500</td>\n",
       "      <td>0918101802</td>\n",
       "      <td>2017-08-12</td>\n",
       "      <td>http://detail.twhouses.com.tw/House/Rent/13855622</td>\n",
       "    </tr>\n",
       "    <tr>\n",
       "      <th>17</th>\n",
       "      <td>241</td>\n",
       "      <td>新北市三重區重新路四段X號2樓、D室</td>\n",
       "      <td>12.00</td>\n",
       "      <td>套</td>\n",
       "      <td>11000</td>\n",
       "      <td>0989924818</td>\n",
       "      <td>2017-08-12</td>\n",
       "      <td>http://detail.twhouses.com.tw/House/Rent/13855379</td>\n",
       "    </tr>\n",
       "    <tr>\n",
       "      <th>18</th>\n",
       "      <td>244</td>\n",
       "      <td>新北市林口區自強七街X號</td>\n",
       "      <td>4.00</td>\n",
       "      <td>套</td>\n",
       "      <td>5500</td>\n",
       "      <td>0928839911</td>\n",
       "      <td>2017-08-12</td>\n",
       "      <td>http://detail.twhouses.com.tw/House/Rent/711261</td>\n",
       "    </tr>\n",
       "    <tr>\n",
       "      <th>19</th>\n",
       "      <td>220</td>\n",
       "      <td>新北市板橋區中山路二段211巷1號2樓</td>\n",
       "      <td>8.00</td>\n",
       "      <td>套</td>\n",
       "      <td>7000</td>\n",
       "      <td>0930901930</td>\n",
       "      <td>2017-08-11</td>\n",
       "      <td>http://detail.twhouses.com.tw/House/Rent/686573</td>\n",
       "    </tr>\n",
       "    <tr>\n",
       "      <th>20</th>\n",
       "      <td>241</td>\n",
       "      <td>新北市三重區自強路三段91號</td>\n",
       "      <td>20.00</td>\n",
       "      <td>套</td>\n",
       "      <td>12998</td>\n",
       "      <td>0938501735</td>\n",
       "      <td>2017-08-11</td>\n",
       "      <td>http://detail.twhouses.com.tw/House/Rent/13855978</td>\n",
       "    </tr>\n",
       "    <tr>\n",
       "      <th>21</th>\n",
       "      <td>242</td>\n",
       "      <td>新北市新莊區建國一路61號7樓</td>\n",
       "      <td>7.00</td>\n",
       "      <td>套</td>\n",
       "      <td>9800</td>\n",
       "      <td>0910413489</td>\n",
       "      <td>2017-08-10</td>\n",
       "      <td>http://detail.twhouses.com.tw/House/Rent/487586</td>\n",
       "    </tr>\n",
       "    <tr>\n",
       "      <th>22</th>\n",
       "      <td>235</td>\n",
       "      <td>新北市中和區中山路二段136巷6弄X號4樓</td>\n",
       "      <td>10.00</td>\n",
       "      <td>套</td>\n",
       "      <td>7800</td>\n",
       "      <td>0920653348</td>\n",
       "      <td>2017-08-08</td>\n",
       "      <td>http://detail.twhouses.com.tw/House/Rent/398063</td>\n",
       "    </tr>\n",
       "    <tr>\n",
       "      <th>23</th>\n",
       "      <td>241</td>\n",
       "      <td>新北市三重區重陽路二段23號4樓</td>\n",
       "      <td>8.00</td>\n",
       "      <td>套</td>\n",
       "      <td>7800</td>\n",
       "      <td>0935809258</td>\n",
       "      <td>2017-08-07</td>\n",
       "      <td>http://detail.twhouses.com.tw/House/Rent/812634</td>\n",
       "    </tr>\n",
       "    <tr>\n",
       "      <th>24</th>\n",
       "      <td>235</td>\n",
       "      <td>新北市中和區捷運路X之X號14樓</td>\n",
       "      <td>29.20</td>\n",
       "      <td>套</td>\n",
       "      <td>30000</td>\n",
       "      <td>02-27017795</td>\n",
       "      <td>2017-08-06</td>\n",
       "      <td>http://detail.twhouses.com.tw/House/Rent/13852557</td>\n",
       "    </tr>\n",
       "    <tr>\n",
       "      <th>25</th>\n",
       "      <td>235</td>\n",
       "      <td>新北市中和區捷運路X號</td>\n",
       "      <td>25.45</td>\n",
       "      <td>套</td>\n",
       "      <td>26000</td>\n",
       "      <td>02-27017795</td>\n",
       "      <td>2017-08-06</td>\n",
       "      <td>http://detail.twhouses.com.tw/House/Rent/13852554</td>\n",
       "    </tr>\n",
       "    <tr>\n",
       "      <th>26</th>\n",
       "      <td>251</td>\n",
       "      <td>新北市淡水區新民街152巷6弄X之X號3樓</td>\n",
       "      <td>6.00</td>\n",
       "      <td>套</td>\n",
       "      <td>4000</td>\n",
       "      <td>0939491666</td>\n",
       "      <td>2017-08-03</td>\n",
       "      <td>http://detail.twhouses.com.tw/House/Rent/850205</td>\n",
       "    </tr>\n",
       "    <tr>\n",
       "      <th>27</th>\n",
       "      <td>221</td>\n",
       "      <td>新北市汐止區大同路三段609號18樓之7</td>\n",
       "      <td>16.00</td>\n",
       "      <td>套</td>\n",
       "      <td>9500</td>\n",
       "      <td>0938501735</td>\n",
       "      <td>2017-08-02</td>\n",
       "      <td>http://detail.twhouses.com.tw/House/Rent/13855580</td>\n",
       "    </tr>\n",
       "    <tr>\n",
       "      <th>28</th>\n",
       "      <td>220</td>\n",
       "      <td>新北市板橋區縣民大道一段64巷X號</td>\n",
       "      <td>4.00</td>\n",
       "      <td>套</td>\n",
       "      <td>6000</td>\n",
       "      <td>0915031727</td>\n",
       "      <td>2017-07-30</td>\n",
       "      <td>http://detail.twhouses.com.tw/House/Rent/806206</td>\n",
       "    </tr>\n",
       "    <tr>\n",
       "      <th>29</th>\n",
       "      <td>234</td>\n",
       "      <td>新北市永和區大新街3號</td>\n",
       "      <td>10.00</td>\n",
       "      <td>套</td>\n",
       "      <td>11500</td>\n",
       "      <td>0939207294</td>\n",
       "      <td>2017-07-23</td>\n",
       "      <td>http://detail.twhouses.com.tw/House/Rent/13855185</td>\n",
       "    </tr>\n",
       "    <tr>\n",
       "      <th>30</th>\n",
       "      <td>247</td>\n",
       "      <td>新北市蘆洲區信義路34巷158號</td>\n",
       "      <td>8.00</td>\n",
       "      <td>套</td>\n",
       "      <td>9500</td>\n",
       "      <td>0970899567</td>\n",
       "      <td>2017-07-21</td>\n",
       "      <td>http://detail.twhouses.com.tw/House/Rent/13853979</td>\n",
       "    </tr>\n",
       "    <tr>\n",
       "      <th>31</th>\n",
       "      <td>235</td>\n",
       "      <td>新北市中和區景平路385巷25號3樓</td>\n",
       "      <td>8.00</td>\n",
       "      <td>套</td>\n",
       "      <td>21000</td>\n",
       "      <td>0981194277</td>\n",
       "      <td>2017-07-19</td>\n",
       "      <td>http://detail.twhouses.com.tw/House/Rent/13855098</td>\n",
       "    </tr>\n",
       "    <tr>\n",
       "      <th>32</th>\n",
       "      <td>241</td>\n",
       "      <td>新北市三重區萬全街X號</td>\n",
       "      <td>5.00</td>\n",
       "      <td>套</td>\n",
       "      <td>5500</td>\n",
       "      <td>0933213695</td>\n",
       "      <td>2017-07-18</td>\n",
       "      <td>http://detail.twhouses.com.tw/House/Rent/731317</td>\n",
       "    </tr>\n",
       "  </tbody>\n",
       "</table>\n",
       "</div>"
      ],
      "text/plain": [
       "    cityID                    address  space label   rent        phone  \\\n",
       "1      241           新北市三重區五華街X號2樓、B室   8.00     套   7000   0989924818   \n",
       "2      241           新北市三重區五華街X號2樓、C室   8.00     套   7500   0989924818   \n",
       "3      234       新北市永和區和平街95巷23號5樓、D室   7.51     套   9000   0917982783   \n",
       "4      234       新北市永和區和平街95巷23號6樓、B室  18.30     套  14500   0917982783   \n",
       "5      220            新北市板橋區文化路一段280號   8.50     套  12300   0937925318   \n",
       "6      241  新北市三重區重新路四段41巷5弄X號5樓、503室  10.00     套   7500   0939319409   \n",
       "7      241     新北市三重區五華街104巷X號4樓、402室   7.00     套   6500   0939319409   \n",
       "8      221         新北市汐止區康寧街X號2樓、202室   9.00     套   8000   0939319409   \n",
       "9      231               新北市新店區花園新城X號  10.00     套   8000   0931167089   \n",
       "10     242             新北市新莊區建國二路1號3樓   7.00     套   5500   0920797125   \n",
       "11     220           新北市板橋區松柏街36巷X號5樓   6.00     套   6000   0953459219   \n",
       "12     247          新北市蘆洲區永安北路一段72巷X號   7.00     套   8500   0939257032   \n",
       "13     241         新北市三重區重新路四段X號2樓、C室   6.00     套   6500   0989924818   \n",
       "14     241         新北市三重區重新路四段X號2樓、B室   8.00     套   8500   0989924818   \n",
       "15     242          新北市新莊區化成路736巷X號3樓   7.00     套   6500   0932395966   \n",
       "16     241            新北市三重區仁愛街114號5樓   6.00     套   6500   0918101802   \n",
       "17     241         新北市三重區重新路四段X號2樓、D室  12.00     套  11000   0989924818   \n",
       "18     244               新北市林口區自強七街X號   4.00     套   5500   0928839911   \n",
       "19     220        新北市板橋區中山路二段211巷1號2樓   8.00     套   7000   0930901930   \n",
       "20     241             新北市三重區自強路三段91號  20.00     套  12998   0938501735   \n",
       "21     242            新北市新莊區建國一路61號7樓   7.00     套   9800   0910413489   \n",
       "22     235      新北市中和區中山路二段136巷6弄X號4樓  10.00     套   7800   0920653348   \n",
       "23     241           新北市三重區重陽路二段23號4樓   8.00     套   7800   0935809258   \n",
       "24     235           新北市中和區捷運路X之X號14樓  29.20     套  30000  02-27017795   \n",
       "25     235                新北市中和區捷運路X號  25.45     套  26000  02-27017795   \n",
       "26     251      新北市淡水區新民街152巷6弄X之X號3樓   6.00     套   4000   0939491666   \n",
       "27     221       新北市汐止區大同路三段609號18樓之7  16.00     套   9500   0938501735   \n",
       "28     220          新北市板橋區縣民大道一段64巷X號   4.00     套   6000   0915031727   \n",
       "29     234                新北市永和區大新街3號  10.00     套  11500   0939207294   \n",
       "30     247           新北市蘆洲區信義路34巷158號   8.00     套   9500   0970899567   \n",
       "31     235         新北市中和區景平路385巷25號3樓   8.00     套  21000   0981194277   \n",
       "32     241                新北市三重區萬全街X號   5.00     套   5500   0933213695   \n",
       "\n",
       "    updateDate                                                url  \n",
       "1   2017-08-16  http://detail.twhouses.com.tw/House/Rent/13856226  \n",
       "2   2017-08-16  http://detail.twhouses.com.tw/House/Rent/13856216  \n",
       "3   2017-08-16  http://detail.twhouses.com.tw/House/Rent/13856051  \n",
       "4   2017-08-16  http://detail.twhouses.com.tw/House/Rent/13856052  \n",
       "5   2017-08-16  http://detail.twhouses.com.tw/House/Rent/13856033  \n",
       "6   2017-08-16    http://detail.twhouses.com.tw/House/Rent/684636  \n",
       "7   2017-08-16    http://detail.twhouses.com.tw/House/Rent/733823  \n",
       "8   2017-08-16   http://detail.twhouses.com.tw/House/Rent/2592099  \n",
       "9   2017-08-15  http://detail.twhouses.com.tw/House/Rent/13855470  \n",
       "10  2017-08-15    http://detail.twhouses.com.tw/House/Rent/438829  \n",
       "11  2017-08-14    http://detail.twhouses.com.tw/House/Rent/703548  \n",
       "12  2017-08-13  http://detail.twhouses.com.tw/House/Rent/13795641  \n",
       "13  2017-08-13  http://detail.twhouses.com.tw/House/Rent/13855278  \n",
       "14  2017-08-13  http://detail.twhouses.com.tw/House/Rent/13855335  \n",
       "15  2017-08-12    http://detail.twhouses.com.tw/House/Rent/433190  \n",
       "16  2017-08-12  http://detail.twhouses.com.tw/House/Rent/13855622  \n",
       "17  2017-08-12  http://detail.twhouses.com.tw/House/Rent/13855379  \n",
       "18  2017-08-12    http://detail.twhouses.com.tw/House/Rent/711261  \n",
       "19  2017-08-11    http://detail.twhouses.com.tw/House/Rent/686573  \n",
       "20  2017-08-11  http://detail.twhouses.com.tw/House/Rent/13855978  \n",
       "21  2017-08-10    http://detail.twhouses.com.tw/House/Rent/487586  \n",
       "22  2017-08-08    http://detail.twhouses.com.tw/House/Rent/398063  \n",
       "23  2017-08-07    http://detail.twhouses.com.tw/House/Rent/812634  \n",
       "24  2017-08-06  http://detail.twhouses.com.tw/House/Rent/13852557  \n",
       "25  2017-08-06  http://detail.twhouses.com.tw/House/Rent/13852554  \n",
       "26  2017-08-03    http://detail.twhouses.com.tw/House/Rent/850205  \n",
       "27  2017-08-02  http://detail.twhouses.com.tw/House/Rent/13855580  \n",
       "28  2017-07-30    http://detail.twhouses.com.tw/House/Rent/806206  \n",
       "29  2017-07-23  http://detail.twhouses.com.tw/House/Rent/13855185  \n",
       "30  2017-07-21  http://detail.twhouses.com.tw/House/Rent/13853979  \n",
       "31  2017-07-19  http://detail.twhouses.com.tw/House/Rent/13855098  \n",
       "32  2017-07-18    http://detail.twhouses.com.tw/House/Rent/731317  "
      ]
     },
     "execution_count": 17,
     "metadata": {},
     "output_type": "execute_result"
    }
   ],
   "source": [
    "df.drop(axis=1,  labels='twhouses_id')"
   ]
  },
  {
   "cell_type": "markdown",
   "metadata": {},
   "source": [
    "# inner page\n",
    "| 欄位:類別                | yn|\n",
    "| ------------------------ |-----|\n",
    "| id: INT{PK}              |x|\n",
    "| cityID: INT{FK}          |x|\n",
    "| url: VARCHAR(100) UNIQUE |x|\n",
    "| title: VARCHAR(100)      |x|\n",
    "| address: VARCHAR(200)    |x|\n",
    "| patten: VARCHAR(50)      ||\n",
    "| floor: INT               |x|\n",
    "| stories: INT             |x|\n",
    "| label: CHAR(1)           |x|\n",
    "| rent: INT                |x|\n",
    "| lat: DECIMAL(15,11)      |x|\n",
    "| lng: DECIMAL(15,11)      |x|\n",
    "| sex: CHAR(1)             ||\n",
    "| space: FLOAT             |x|\n",
    "| smoke: CHAR(1)           ||\n",
    "| pet: CHAR(1)             ||\n",
    "| cook: CHAR(1)            ||\n",
    "| updateDate: date         |x|\n",
    "| description:             |x|\n",
    "| landlord:                |0.5|\n",
    "| temp: VAR(1)              ||\n",
    "\n",
    "\n"
   ]
  },
  {
   "cell_type": "code",
   "execution_count": null,
   "metadata": {
    "collapsed": true
   },
   "outputs": [],
   "source": [
    "item_data = {}"
   ]
  },
  {
   "cell_type": "code",
   "execution_count": 108,
   "metadata": {},
   "outputs": [
    {
     "data": {
      "text/plain": [
       "['出租樓層:', '5', '整棟大樓樓層:', '5']"
      ]
     },
     "execution_count": 108,
     "metadata": {},
     "output_type": "execute_result"
    }
   ],
   "source": [
    "import requests\n",
    "from bs4 import BeautifulSoup\n",
    "\n",
    "item_url = 'http://detail.twhouses.com.tw/House/Rent/13856051'\n",
    "item_res = requests.get(item_url)\n",
    "item_soup = BeautifulSoup(item_res.text, 'lxml')\n",
    "\n",
    "itemlist = item_soup.select_one('ul.itemlist').select('li')\n",
    "itemlist[6].text.split()"
   ]
  },
  {
   "cell_type": "code",
   "execution_count": 85,
   "metadata": {},
   "outputs": [
    {
     "data": {
      "text/plain": [
       "[<li>新北市永和區和平街95巷23號5樓、D室</li>,\n",
       " <li class=\"clearfix\" id=\"advaddress\"><span>樂華夜市優質公寓五樓優質套房陽台</span><a href=\"http://www.bestmove.com.tw/\" target=\"_blank\" title=\"找搬家\"><img src=\"/Content/House/images/findmove.gif\"/></a></li>,\n",
       " <li>\n",
       " <span class=\"itemname\">月租:</span>\n",
       " 9,000 /月                </li>,\n",
       " <li><span class=\"itemname\">押金:</span> 18000 元</li>,\n",
       " <li><span class=\"itemname\">房屋坪數:</span> 7.51 坪</li>,\n",
       " <li><span class=\"itemname\">類型:</span> 套房</li>,\n",
       " <li>\n",
       " <span class=\"itemname\">出租樓層:</span> 5                                                        <span class=\"itemname2\">整棟大樓樓層:</span>\n",
       " 5\n",
       "                     </li>,\n",
       " <li><span class=\"itemname\">屋齡:</span> 30 年</li>,\n",
       " <li><span class=\"itemname\">格局:</span> 1 房 1 衛 0 廚</li>,\n",
       " <li>\n",
       " <span class=\"itemname\">電梯:</span>\n",
       " 無                </li>,\n",
       " <li>\n",
       " <span class=\"itemname\">車位:</span>\n",
       "                     無\n",
       "                 </li>]"
      ]
     },
     "execution_count": 85,
     "metadata": {},
     "output_type": "execute_result"
    }
   ],
   "source": [
    "#title\n",
    "item_data['title'] = itemlist[1].text\n",
    "\n",
    "#floor & stories\n",
    "flr = itemlist[6].text.split()\n",
    "item_data['floor'] = flr[1]\n",
    "item_data['stories'] = flr[3]\n",
    "\n",
    "#lat & lng\n",
    "item_data['lng'] = float(item_soup.select_one('#lng').get('value'))\n",
    "item_data['lat'] = float(item_soup.select_one('#lat').get('value'))\n",
    "\n",
    "#description\n",
    "item_data['description'] = item_soup.select_one('#cont_note').text"
   ]
  },
  {
   "cell_type": "code",
   "execution_count": 76,
   "metadata": {},
   "outputs": [
    {
     "data": {
      "text/plain": [
       "True"
      ]
     },
     "execution_count": 76,
     "metadata": {},
     "output_type": "execute_result"
    }
   ],
   "source": [
    "#\n",
    "'有陽台' in item_soup.select_one('div.list').text.split('\\n')\n",
    "'限女性'\n",
    "'可開伙'\n",
    "'可養寵物'"
   ]
  },
  {
   "cell_type": "code",
   "execution_count": 88,
   "metadata": {},
   "outputs": [
    {
     "data": {
      "text/plain": [
       "' 本屋位於:樂華夜市永平路萊爾富超商旁.公寓五樓分租套房.環境單純,巷道寧靜.採光通風.交通:頂溪捷運站.數十線公車路網通勤便利指數100％【屋內附:冷氣.電視.冰箱.洗衣機.雙人床.衣櫥.書桌椅.電熱水器.陽台.租金包網路.第四台.水費.電獨立電錶一度五元另計】週邊食衣住行育樂琳瑯滿目.吃喝玩樂樣樣方便.滿足您生活需求.【本屋婉拒所有養寵物者承租，敬請見諒。】【廣告登載之坪數為權狀均分之面積，以上資料若誤差記載錯誤 \\xa0一律依謄本登記資料為準】不管生活機能及交通.休閒場所都超方便 \\xa0只要帶著衣物即可入住.歡迎正職進住.看屋請洽【住商不動產信義敦安加盟店】【誠鄰不動產經紀股份有限公司】經紀人(95)北縣字001246號 \\xa0【 勝先生 \\xa0 服務專線0917-982783】請體諒我們帶看的辛苦~看屋不收任何費用~最便捷的房屋資訊0917982783.soufun.com.tw'"
      ]
     },
     "execution_count": 88,
     "metadata": {},
     "output_type": "execute_result"
    }
   ],
   "source": [
    "#descrition\n",
    "item_soup.select_one('#cont_note').text"
   ]
  },
  {
   "cell_type": "code",
   "execution_count": 109,
   "metadata": {},
   "outputs": [
    {
     "data": {
      "text/plain": [
       "121.51333210000007"
      ]
     },
     "execution_count": 109,
     "metadata": {},
     "output_type": "execute_result"
    }
   ],
   "source": [
    "float(item_soup.select_one('#lng').get('value'))"
   ]
  },
  {
   "cell_type": "code",
   "execution_count": 95,
   "metadata": {},
   "outputs": [
    {
     "data": {
      "text/plain": [
       "'25.0098748'"
      ]
     },
     "execution_count": 95,
     "metadata": {},
     "output_type": "execute_result"
    }
   ],
   "source": [
    "item_soup.select_one('#lat').get('value')"
   ]
  },
  {
   "cell_type": "code",
   "execution_count": 119,
   "metadata": {},
   "outputs": [
    {
     "data": {
      "text/plain": [
       "<div class=\"agentinfo\">\n",
       "<ul>\n",
       "<li>\n",
       "<span class=\"ml5 nowrap\">勝先生</span>\n",
       "<div class=\"agenttype\">(專業仲介不需服務費)</div>\n",
       "</li>\n",
       "<li>\n",
       "<span>\n",
       "                                                (日)<strong id=\"show_daytel\"></strong>\n",
       "<input id=\"hd_daytel\" type=\"hidden\" value=\"02-27008555\"/>\n",
       "<script type=\"text/javascript\">\n",
       "                                                    $(function () { $(\"#show_daytel\").html($(\"#hd_daytel\").val()); });\n",
       "                                                </script>\n",
       "</span>\n",
       "</li>\n",
       "<li>\n",
       "                                            (行動)<strong class=\"mobile\" id=\"show_mobile\"></strong>\n",
       "<input id=\"hd_mobile\" type=\"hidden\" value=\"0917982783\"/>\n",
       "<script type=\"text/javascript\">\n",
       "                                                $(function () { $(\"#show_mobile\").html($(\"#hd_mobile\").val()); });\n",
       "                                            </script>\n",
       "</li>\n",
       "</ul>\n",
       "</div>"
      ]
     },
     "execution_count": 119,
     "metadata": {},
     "output_type": "execute_result"
    }
   ],
   "source": [
    "item_soup.select_one('.agentinfo')"
   ]
  },
  {
   "cell_type": "code",
   "execution_count": null,
   "metadata": {
    "collapsed": true
   },
   "outputs": [],
   "source": []
  }
 ],
 "metadata": {
  "kernelspec": {
   "display_name": "Python 3",
   "language": "python",
   "name": "python3"
  },
  "language_info": {
   "codemirror_mode": {
    "name": "ipython",
    "version": 3
   },
   "file_extension": ".py",
   "mimetype": "text/x-python",
   "name": "python",
   "nbconvert_exporter": "python",
   "pygments_lexer": "ipython3",
   "version": "3.6.1"
  }
 },
 "nbformat": 4,
 "nbformat_minor": 2
}
